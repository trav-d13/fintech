{
 "cells": [
  {
   "cell_type": "code",
   "execution_count": 3,
   "id": "initial_id",
   "metadata": {
    "collapsed": true,
    "ExecuteTime": {
     "end_time": "2023-11-04T12:41:49.812303732Z",
     "start_time": "2023-11-04T12:41:49.683323833Z"
    }
   },
   "outputs": [],
   "source": [
    "import numpy as np\n",
    "import matplotlib.pyplot as plt\n",
    "import cvxopt as opt\n",
    "from cvxopt import blas, solvers\n",
    "import pandas as pd\n",
    "\n",
    "import plotly\n",
    "import cufflinks\n",
    "\n",
    "np.random.seed(123)"
   ]
  },
  {
   "cell_type": "code",
   "execution_count": 12,
   "outputs": [],
   "source": [
    "import chart_studio.plotly as py\n",
    "import plotly.tools as tls\n",
    "from plotly.graph_objs import *\n"
   ],
   "metadata": {
    "collapsed": false,
    "ExecuteTime": {
     "end_time": "2023-11-04T13:02:52.937885140Z",
     "start_time": "2023-11-04T13:02:52.895558420Z"
    }
   },
   "id": "b5f25d62c5887d10"
  },
  {
   "cell_type": "markdown",
   "source": [
    "# Markowitz Portfolio Optimization (Modern Portfolio Theory)\n",
    "\n",
    "The following source was used as inspiration and instruction for this investigation into Modern Portfolio Theory (MPT): [https://plotly.com/python/v3/ipython-notebooks/markowitz-portfolio-optimization/](https://plotly.com/python/v3/ipython-notebooks/markowitz-portfolio-optimization/ )\n",
    "\n",
    "## Library Explanation\n",
    "- **cvxopt:** Python Software for Convex Optimization - CVXOPT is a free software package for convex optimization based on the Python programming language. \n",
    "- **plotly:** Plotly is a free and open-source graphing library for Python. Plotly is well suited for creating interactive visualizations for web-based interactions\n",
    "    - Maplotlib is a great starting tool.\n",
    "    - Seaborn is fantastic for creating complex visuals with minimal code. \n",
    "- **cufflinks:** Allows for direct plotting from a Pandas dataframe using Plotly   "
   ],
   "metadata": {
    "collapsed": false
   },
   "id": "d3bf658188729e55"
  },
  {
   "cell_type": "markdown",
   "source": [
    "1. ## Simulate random asset return data.\n",
    "\n",
    "_Returns represent the gains or losses experienced by an investor over the course of holding the asset_\n",
    "\n",
    "Assuming that there exist 4 assets, to simulate a return over 1000 intervals representing the holding time of each asset."
   ],
   "metadata": {
    "collapsed": false
   },
   "id": "4488622c4efcc43a"
  },
  {
   "cell_type": "code",
   "execution_count": 10,
   "outputs": [],
   "source": [
    "asset_no = 4\n",
    "obs_no = 1000\n",
    "\n",
    "asset_returns = np.random.randn(asset_no, obs_no)"
   ],
   "metadata": {
    "collapsed": false,
    "ExecuteTime": {
     "end_time": "2023-11-04T12:58:56.882692172Z",
     "start_time": "2023-11-04T12:58:56.841344458Z"
    }
   },
   "id": "b5b9c3de12f353ec"
  },
  {
   "cell_type": "code",
   "execution_count": null,
   "outputs": [],
   "source": [
    "fig = plt.figure(figsize=(20, 12))\n",
    "plt.plot(asset_returns.T, alpha=0.4)\n",
    "plt.xlabel('Time')\n",
    "plt.ylabel('Asset returns')\n",
    "px.iplot_mpl()"
   ],
   "metadata": {
    "collapsed": false
   },
   "id": "9f49fa69ba9b10a9"
  }
 ],
 "metadata": {
  "kernelspec": {
   "display_name": "Python 3",
   "language": "python",
   "name": "python3"
  },
  "language_info": {
   "codemirror_mode": {
    "name": "ipython",
    "version": 2
   },
   "file_extension": ".py",
   "mimetype": "text/x-python",
   "name": "python",
   "nbconvert_exporter": "python",
   "pygments_lexer": "ipython2",
   "version": "2.7.6"
  }
 },
 "nbformat": 4,
 "nbformat_minor": 5
}
